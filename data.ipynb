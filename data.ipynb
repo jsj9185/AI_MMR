{
 "cells": [
  {
   "cell_type": "markdown",
   "metadata": {},
   "source": [
    "## 패션 이미지 데이터셋 전처리"
   ]
  },
  {
   "cell_type": "code",
   "execution_count": 6,
   "metadata": {},
   "outputs": [],
   "source": [
    "import pandas as pd\n",
    "\n",
    "path = 'data/meta/'\n",
    "# train = pd.read_json(path + 'train_no_dup.json')\n",
    "# valid = pd.read_json(path + 'valid_no_dup.json')\n",
    "test = pd.read_json(path + 'test_no_dup.json')\n",
    "# blank = pd.read_json(path + 'fill_in_blank_test.json')"
   ]
  },
  {
   "cell_type": "code",
   "execution_count": 9,
   "metadata": {},
   "outputs": [
    {
     "data": {
      "text/html": [
       "<div>\n",
       "<style scoped>\n",
       "    .dataframe tbody tr th:only-of-type {\n",
       "        vertical-align: middle;\n",
       "    }\n",
       "\n",
       "    .dataframe tbody tr th {\n",
       "        vertical-align: top;\n",
       "    }\n",
       "\n",
       "    .dataframe thead th {\n",
       "        text-align: right;\n",
       "    }\n",
       "</style>\n",
       "<table border=\"1\" class=\"dataframe\">\n",
       "  <thead>\n",
       "    <tr style=\"text-align: right;\">\n",
       "      <th></th>\n",
       "      <th>name</th>\n",
       "      <th>views</th>\n",
       "      <th>items</th>\n",
       "      <th>image</th>\n",
       "      <th>likes</th>\n",
       "      <th>date</th>\n",
       "      <th>set_url</th>\n",
       "      <th>set_id</th>\n",
       "      <th>desc</th>\n",
       "    </tr>\n",
       "  </thead>\n",
       "  <tbody>\n",
       "    <tr>\n",
       "      <th>594</th>\n",
       "      <td>Top Art Set 6.1.16-Where are my Shoes?</td>\n",
       "      <td>705</td>\n",
       "      <td>[{'index': 1, 'name': 'pre-owned manolo blahni...</td>\n",
       "      <td>http://ak2.polyvoreimg.com/cgi/img-set/cid/199...</td>\n",
       "      <td>183</td>\n",
       "      <td>8 months</td>\n",
       "      <td>http://www.polyvore.com/top_art_set_16-where_a...</td>\n",
       "      <td>199221246</td>\n",
       "      <td>An art collage from May 2016 by easy-dressing ...</td>\n",
       "    </tr>\n",
       "  </tbody>\n",
       "</table>\n",
       "</div>"
      ],
      "text/plain": [
       "                                       name  views  \\\n",
       "594  Top Art Set 6.1.16-Where are my Shoes?    705   \n",
       "\n",
       "                                                 items  \\\n",
       "594  [{'index': 1, 'name': 'pre-owned manolo blahni...   \n",
       "\n",
       "                                                 image  likes      date  \\\n",
       "594  http://ak2.polyvoreimg.com/cgi/img-set/cid/199...    183  8 months   \n",
       "\n",
       "                                               set_url     set_id  \\\n",
       "594  http://www.polyvore.com/top_art_set_16-where_a...  199221246   \n",
       "\n",
       "                                                  desc  \n",
       "594  An art collage from May 2016 by easy-dressing ...  "
      ]
     },
     "execution_count": 9,
     "metadata": {},
     "output_type": "execute_result"
    }
   ],
   "source": [
    "test[test['set_id']==199221246]"
   ]
  },
  {
   "cell_type": "markdown",
   "metadata": {},
   "source": [
    "## Data Load Example"
   ]
  },
  {
   "cell_type": "code",
   "execution_count": 8,
   "metadata": {},
   "outputs": [],
   "source": [
    "import pandas as pd\n",
    "from dataloader.sampling import DataSampler\n",
    "#from dataloader.multimodal_data import MultiModalData\n",
    "from dataloader.multilstm_data import MultiModalData\n",
    "import os\n",
    "\n",
    "base_dir = os.getcwd()\n",
    "data_dir = os.path.join(base_dir, 'data')\n",
    "meta_dir = os.path.join(data_dir, 'meta')\n",
    "image_dir = os.path.join(data_dir, 'images')\n",
    "sampler = DataSampler(data_path = meta_dir, k=100, test_sampling_ratio=1)\n",
    "concat_df, question_data = sampler.sample_data()\n",
    "\n",
    "train_dataset = MultiModalData(concat_df, sampler.category_df, image_dir, mode='train')\n",
    "valid_dataset = MultiModalData(concat_df, sampler.category_df, image_dir, mode='valid')\n",
    "test_dataset = MultiModalData(concat_df, sampler.category_df, image_dir, question = question_data, mode='test')"
   ]
  },
  {
   "cell_type": "code",
   "execution_count": 11,
   "metadata": {},
   "outputs": [
    {
     "data": {
      "text/html": [
       "<div>\n",
       "<style scoped>\n",
       "    .dataframe tbody tr th:only-of-type {\n",
       "        vertical-align: middle;\n",
       "    }\n",
       "\n",
       "    .dataframe tbody tr th {\n",
       "        vertical-align: top;\n",
       "    }\n",
       "\n",
       "    .dataframe thead th {\n",
       "        text-align: right;\n",
       "    }\n",
       "</style>\n",
       "<table border=\"1\" class=\"dataframe\">\n",
       "  <thead>\n",
       "    <tr style=\"text-align: right;\">\n",
       "      <th></th>\n",
       "      <th>name</th>\n",
       "      <th>items</th>\n",
       "      <th>desc</th>\n",
       "      <th>set_id</th>\n",
       "      <th>type</th>\n",
       "    </tr>\n",
       "  </thead>\n",
       "  <tbody>\n",
       "    <tr>\n",
       "      <th>0</th>\n",
       "      <td>Casual Eleanor.</td>\n",
       "      <td>[{'index': 1, 'name': 'doublju women's crew ne...</td>\n",
       "      <td>A fashion look from August 2016 by haley-bob1 ...</td>\n",
       "      <td>205211881</td>\n",
       "      <td>train</td>\n",
       "    </tr>\n",
       "    <tr>\n",
       "      <th>1</th>\n",
       "      <td>Who wears short short !?</td>\n",
       "      <td>[{'index': 1, 'name': 'abercrombie fitch appli...</td>\n",
       "      <td>A fashion look from July 2016 by blancacalleja...</td>\n",
       "      <td>203655321</td>\n",
       "      <td>train</td>\n",
       "    </tr>\n",
       "    <tr>\n",
       "      <th>2</th>\n",
       "      <td>Date Night</td>\n",
       "      <td>[{'index': 1, 'name': 'dip dye raglan blue whi...</td>\n",
       "      <td>A fashion look from February 2017 by hattie4pa...</td>\n",
       "      <td>216829898</td>\n",
       "      <td>train</td>\n",
       "    </tr>\n",
       "    <tr>\n",
       "      <th>3</th>\n",
       "      <td>TOP</td>\n",
       "      <td>[{'index': 1, 'name': 'forever new lauren embe...</td>\n",
       "      <td>A fashion look from December 2013 featuring sh...</td>\n",
       "      <td>107222824</td>\n",
       "      <td>train</td>\n",
       "    </tr>\n",
       "    <tr>\n",
       "      <th>4</th>\n",
       "      <td>interview outfit</td>\n",
       "      <td>[{'index': 1, 'name': 'wool sweater', 'price':...</td>\n",
       "      <td>A fashion look from November 2016 by smartbuyg...</td>\n",
       "      <td>211086877</td>\n",
       "      <td>train</td>\n",
       "    </tr>\n",
       "    <tr>\n",
       "      <th>...</th>\n",
       "      <td>...</td>\n",
       "      <td>...</td>\n",
       "      <td>...</td>\n",
       "      <td>...</td>\n",
       "      <td>...</td>\n",
       "    </tr>\n",
       "    <tr>\n",
       "      <th>7382</th>\n",
       "      <td>Sheinside.com</td>\n",
       "      <td>[{'index': 1, 'name': 'black sleeveless hollow...</td>\n",
       "      <td>#Sheinside</td>\n",
       "      <td>122358035</td>\n",
       "      <td>test</td>\n",
       "    </tr>\n",
       "    <tr>\n",
       "      <th>7383</th>\n",
       "      <td>Inspired by street style/ the new queen</td>\n",
       "      <td>[{'index': 1, 'name': 'j.crew jeweled chandeli...</td>\n",
       "      <td>A fashion look from November 2014 featuring pi...</td>\n",
       "      <td>141687053</td>\n",
       "      <td>test</td>\n",
       "    </tr>\n",
       "    <tr>\n",
       "      <th>7384</th>\n",
       "      <td>*edgy chic*</td>\n",
       "      <td>[{'index': 1, 'name': 'crop pullover', 'price'...</td>\n",
       "      <td>A fashion look from February 2014 featuring cr...</td>\n",
       "      <td>113788101</td>\n",
       "      <td>test</td>\n",
       "    </tr>\n",
       "    <tr>\n",
       "      <th>7385</th>\n",
       "      <td>Cute White Laser Loose Top Set: Contest Entry</td>\n",
       "      <td>[{'index': 1, 'name': 'shein sheinside loose f...</td>\n",
       "      <td>A fashion look from June 2016 by krystinekerch...</td>\n",
       "      <td>199807808</td>\n",
       "      <td>test</td>\n",
       "    </tr>\n",
       "    <tr>\n",
       "      <th>7386</th>\n",
       "      <td>BOHO Glam....</td>\n",
       "      <td>[{'index': 1, 'name': 'silk-satin midi dress',...</td>\n",
       "      <td>A fashion look from September 2016 by desert-b...</td>\n",
       "      <td>207924300</td>\n",
       "      <td>test</td>\n",
       "    </tr>\n",
       "  </tbody>\n",
       "</table>\n",
       "<p>7387 rows × 5 columns</p>\n",
       "</div>"
      ],
      "text/plain": [
       "                                               name  \\\n",
       "0                                   Casual Eleanor.   \n",
       "1                          Who wears short short !?   \n",
       "2                                        Date Night   \n",
       "3                                               TOP   \n",
       "4                                  interview outfit   \n",
       "...                                             ...   \n",
       "7382                                  Sheinside.com   \n",
       "7383        Inspired by street style/ the new queen   \n",
       "7384                                    *edgy chic*   \n",
       "7385  Cute White Laser Loose Top Set: Contest Entry   \n",
       "7386                                  BOHO Glam....   \n",
       "\n",
       "                                                  items  \\\n",
       "0     [{'index': 1, 'name': 'doublju women's crew ne...   \n",
       "1     [{'index': 1, 'name': 'abercrombie fitch appli...   \n",
       "2     [{'index': 1, 'name': 'dip dye raglan blue whi...   \n",
       "3     [{'index': 1, 'name': 'forever new lauren embe...   \n",
       "4     [{'index': 1, 'name': 'wool sweater', 'price':...   \n",
       "...                                                 ...   \n",
       "7382  [{'index': 1, 'name': 'black sleeveless hollow...   \n",
       "7383  [{'index': 1, 'name': 'j.crew jeweled chandeli...   \n",
       "7384  [{'index': 1, 'name': 'crop pullover', 'price'...   \n",
       "7385  [{'index': 1, 'name': 'shein sheinside loose f...   \n",
       "7386  [{'index': 1, 'name': 'silk-satin midi dress',...   \n",
       "\n",
       "                                                   desc     set_id   type  \n",
       "0     A fashion look from August 2016 by haley-bob1 ...  205211881  train  \n",
       "1     A fashion look from July 2016 by blancacalleja...  203655321  train  \n",
       "2     A fashion look from February 2017 by hattie4pa...  216829898  train  \n",
       "3     A fashion look from December 2013 featuring sh...  107222824  train  \n",
       "4     A fashion look from November 2016 by smartbuyg...  211086877  train  \n",
       "...                                                 ...        ...    ...  \n",
       "7382                                         #Sheinside  122358035   test  \n",
       "7383  A fashion look from November 2014 featuring pi...  141687053   test  \n",
       "7384  A fashion look from February 2014 featuring cr...  113788101   test  \n",
       "7385  A fashion look from June 2016 by krystinekerch...  199807808   test  \n",
       "7386  A fashion look from September 2016 by desert-b...  207924300   test  \n",
       "\n",
       "[7387 rows x 5 columns]"
      ]
     },
     "execution_count": 11,
     "metadata": {},
     "output_type": "execute_result"
    }
   ],
   "source": [
    "concat_df"
   ]
  },
  {
   "cell_type": "code",
   "execution_count": 4,
   "metadata": {},
   "outputs": [
    {
     "data": {
      "text/plain": [
       "type\n",
       "train    4714\n",
       "test     2630\n",
       "valid     843\n",
       "Name: count, dtype: int64"
      ]
     },
     "execution_count": 4,
     "metadata": {},
     "output_type": "execute_result"
    }
   ],
   "source": [
    "concat_df['type'].value_counts()"
   ]
  },
  {
   "cell_type": "code",
   "execution_count": 10,
   "metadata": {},
   "outputs": [
    {
     "data": {
      "text/html": [
       "<div>\n",
       "<style scoped>\n",
       "    .dataframe tbody tr th:only-of-type {\n",
       "        vertical-align: middle;\n",
       "    }\n",
       "\n",
       "    .dataframe tbody tr th {\n",
       "        vertical-align: top;\n",
       "    }\n",
       "\n",
       "    .dataframe thead th {\n",
       "        text-align: right;\n",
       "    }\n",
       "</style>\n",
       "<table border=\"1\" class=\"dataframe\">\n",
       "  <thead>\n",
       "    <tr style=\"text-align: right;\">\n",
       "      <th></th>\n",
       "      <th>name</th>\n",
       "      <th>items</th>\n",
       "      <th>desc</th>\n",
       "      <th>set_id</th>\n",
       "      <th>type</th>\n",
       "    </tr>\n",
       "  </thead>\n",
       "  <tbody>\n",
       "  </tbody>\n",
       "</table>\n",
       "</div>"
      ],
      "text/plain": [
       "Empty DataFrame\n",
       "Columns: [name, items, desc, set_id, type]\n",
       "Index: []"
      ]
     },
     "execution_count": 10,
     "metadata": {},
     "output_type": "execute_result"
    }
   ],
   "source": [
    "concat_df[concat_df['set_id']==199221246]"
   ]
  },
  {
   "cell_type": "code",
   "execution_count": 23,
   "metadata": {},
   "outputs": [
    {
     "data": {
      "text/plain": [
       "dict_keys(['texts', 'images', 'set_id', 'question', 'answer_texts', 'answer_images'])"
      ]
     },
     "execution_count": 23,
     "metadata": {},
     "output_type": "execute_result"
    }
   ],
   "source": [
    "test_dataset[4].keys()"
   ]
  },
  {
   "cell_type": "code",
   "execution_count": 3,
   "metadata": {},
   "outputs": [
    {
     "name": "stderr",
     "output_type": "stream",
     "text": [
      "c:\\ProgramData\\Anaconda3\\envs\\jin\\Lib\\site-packages\\torch\\nn\\functional.py:5560: UserWarning: 1Torch was not compiled with flash attention. (Triggered internally at C:\\cb\\pytorch_1000000000000\\work\\aten\\src\\ATen\\native\\transformers\\cuda\\sdp_utils.cpp:555.)\n",
      "  attn_output = scaled_dot_product_attention(q, k, v, attn_mask, dropout_p, is_causal)\n"
     ]
    },
    {
     "name": "stdout",
     "output_type": "stream",
     "text": [
      "Warning: item idx 7 out of range for set_id 199221246, skipping 199221246_7\n",
      "0\n"
     ]
    },
    {
     "data": {
      "text/plain": [
       "tensor([[-0.3274, -0.2683,  0.6309,  ...,  0.7676,  0.0580, -0.0901],\n",
       "        [-0.1646, -0.3567,  0.4143,  ...,  0.4258,  0.2651,  0.5854],\n",
       "        [-0.2900, -0.3955,  0.2117,  ...,  0.7139,  0.1151,  0.0714]],\n",
       "       device='cuda:0', grad_fn=<ToCopyBackward0>)"
      ]
     },
     "execution_count": 3,
     "metadata": {},
     "output_type": "execute_result"
    }
   ],
   "source": [
    "test_dataset[100]['answer_images']"
   ]
  },
  {
   "cell_type": "code",
   "execution_count": 26,
   "metadata": {},
   "outputs": [
    {
     "data": {
      "text/plain": [
       "305"
      ]
     },
     "execution_count": 26,
     "metadata": {},
     "output_type": "execute_result"
    }
   ],
   "source": [
    "len(valid_dataset)"
   ]
  },
  {
   "cell_type": "markdown",
   "metadata": {},
   "source": [
    "## Dataloader"
   ]
  },
  {
   "cell_type": "code",
   "execution_count": 29,
   "metadata": {},
   "outputs": [],
   "source": [
    "from torch.nn.utils.rnn import pad_sequence\n",
    "import torch\n",
    "def collate_fn(batch):\n",
    "    \"\"\"\n",
    "    배치 내 데이터를 패딩 처리하고 필요한 키로 구성된 dictionary 반환.\n",
    "    \"\"\"\n",
    "    image_embeddings = [item['images'] for item in batch]\n",
    "    seq_embeddings = [item['texts'] for item in batch]\n",
    "    lengths = torch.tensor([len(seq) for seq in image_embeddings])\n",
    "\n",
    "    image_embeddings_padded = pad_sequence(image_embeddings, batch_first=True)\n",
    "    seq_embeddings_padded = pad_sequence(seq_embeddings, batch_first=True)\n",
    "    mask = (image_embeddings_padded.sum(dim=2) != 0).float()\n",
    "\n",
    "    return {\n",
    "        'image_embeddings': image_embeddings_padded,\n",
    "        'seq_embeddings': seq_embeddings_padded,\n",
    "        'lengths': lengths,\n",
    "        'mask': mask\n",
    "    }"
   ]
  },
  {
   "cell_type": "code",
   "execution_count": 32,
   "metadata": {},
   "outputs": [],
   "source": [
    "from torch.utils.data import Dataset, DataLoader\n",
    "#from AI_MMR.model.multilstm import Multifusion, MultiLSTM\n",
    "import torch\n",
    "\n",
    "device = \"cuda\" if torch.cuda.is_available() else \"cpu\"\n",
    "\n",
    "train_dataloader = DataLoader(\n",
    "        train_dataset, batch_size=4, shuffle=True, collate_fn=collate_fn\n",
    "    )\n",
    "valid_dataloader = DataLoader(\n",
    "        valid_dataset, batch_size=4, shuffle=True, collate_fn=collate_fn\n",
    "    )\n",
    "test_dataloader = DataLoader(\n",
    "        test_dataset, batch_size=4, shuffle=True\n",
    "    )"
   ]
  },
  {
   "cell_type": "code",
   "execution_count": 23,
   "metadata": {},
   "outputs": [
    {
     "data": {
      "text/plain": [
       "<torch.utils.data.dataloader.DataLoader at 0x186151baa90>"
      ]
     },
     "execution_count": 23,
     "metadata": {},
     "output_type": "execute_result"
    }
   ],
   "source": [
    "test_dataloader"
   ]
  },
  {
   "cell_type": "code",
   "execution_count": 33,
   "metadata": {},
   "outputs": [
    {
     "name": "stdout",
     "output_type": "stream",
     "text": [
      "dict_keys(['texts', 'images', 'set_id', 'question'])\n"
     ]
    }
   ],
   "source": [
    "# Dataloader\n",
    " \n",
    "for batch_idx, batch in enumerate(test_dataloader):\n",
    "    print(batch.keys())\n",
    "    break"
   ]
  },
  {
   "cell_type": "code",
   "execution_count": null,
   "metadata": {},
   "outputs": [],
   "source": [
    " \n",
    "for batch_idx, batch in enumerate(valid_dataloader):\n",
    "    print(batch.shape)\n",
    "    break"
   ]
  },
  {
   "cell_type": "code",
   "execution_count": 4,
   "metadata": {},
   "outputs": [],
   "source": [
    "mlp = Multifusion().to(device)\n",
    "lstm = MultiLSTM(input_size=512, hidden_size=512, num_layers=1, bidirectional=True).to(device)"
   ]
  },
  {
   "cell_type": "code",
   "execution_count": 24,
   "metadata": {},
   "outputs": [],
   "source": [
    "from AI_MMR.model.multilstm import Multifusion"
   ]
  },
  {
   "cell_type": "code",
   "execution_count": null,
   "metadata": {},
   "outputs": [],
   "source": []
  }
 ],
 "metadata": {
  "kernelspec": {
   "display_name": "jin",
   "language": "python",
   "name": "python3"
  },
  "language_info": {
   "codemirror_mode": {
    "name": "ipython",
    "version": 3
   },
   "file_extension": ".py",
   "mimetype": "text/x-python",
   "name": "python",
   "nbconvert_exporter": "python",
   "pygments_lexer": "ipython3",
   "version": "3.11.9"
  }
 },
 "nbformat": 4,
 "nbformat_minor": 2
}
