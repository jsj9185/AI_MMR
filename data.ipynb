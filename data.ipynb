{
 "cells": [
  {
   "cell_type": "markdown",
   "metadata": {},
   "source": [
    "## 패션 이미지 데이터셋 전처리"
   ]
  },
  {
   "cell_type": "code",
   "execution_count": 1,
   "metadata": {},
   "outputs": [],
   "source": [
    "import pandas as pd\n",
    "\n",
    "path = 'data/meta/'\n",
    "train = pd.read_json(path + 'train_no_dup.json')\n",
    "valid = pd.read_json(path + 'valid_no_dup.json')\n",
    "test = pd.read_json(path + 'test_no_dup.json')\n",
    "blank = pd.read_json(path + 'fill_in_blank_test.json')"
   ]
  },
  {
   "cell_type": "markdown",
   "metadata": {},
   "source": [
    "## Data Load Example"
   ]
  },
  {
   "cell_type": "code",
   "execution_count": 2,
   "metadata": {},
   "outputs": [],
   "source": [
    "import pandas as pd\n",
    "from importlib import reload\n",
    "import sampling  # 이미 import된 모듈\n",
    "reload(sampling)  # 모듈 다시 로드\n",
    "from sampling import DataSampler \n",
    "import os\n",
    "\n",
    "base_dir = os.getcwd()\n",
    "data_dir = os.path.join(base_dir, 'data')\n",
    "meta_dir = os.path.join(data_dir, 'meta')\n",
    "image_dir = os.path.join(data_dir, 'images')\n",
    "sampler = DataSampler(data_path = meta_dir, k=150, test_sampling_ratio=1)\n",
    "concat_df, question_data = sampler.sample_data()\n"
   ]
  },
  {
   "cell_type": "code",
   "execution_count": 3,
   "metadata": {},
   "outputs": [
    {
     "data": {
      "text/html": [
       "<div>\n",
       "<style scoped>\n",
       "    .dataframe tbody tr th:only-of-type {\n",
       "        vertical-align: middle;\n",
       "    }\n",
       "\n",
       "    .dataframe tbody tr th {\n",
       "        vertical-align: top;\n",
       "    }\n",
       "\n",
       "    .dataframe thead th {\n",
       "        text-align: right;\n",
       "    }\n",
       "</style>\n",
       "<table border=\"1\" class=\"dataframe\">\n",
       "  <thead>\n",
       "    <tr style=\"text-align: right;\">\n",
       "      <th></th>\n",
       "      <th>name</th>\n",
       "      <th>items</th>\n",
       "      <th>desc</th>\n",
       "      <th>set_id</th>\n",
       "      <th>type</th>\n",
       "    </tr>\n",
       "  </thead>\n",
       "  <tbody>\n",
       "    <tr>\n",
       "      <th>0</th>\n",
       "      <td>Casual Eleanor.</td>\n",
       "      <td>[{'index': 1, 'name': 'doublju women's crew ne...</td>\n",
       "      <td>A fashion look from August 2016 by haley-bob1 ...</td>\n",
       "      <td>205211881</td>\n",
       "      <td>train</td>\n",
       "    </tr>\n",
       "    <tr>\n",
       "      <th>1</th>\n",
       "      <td>Who wears short short !?</td>\n",
       "      <td>[{'index': 1, 'name': 'abercrombie fitch appli...</td>\n",
       "      <td>A fashion look from July 2016 by blancacalleja...</td>\n",
       "      <td>203655321</td>\n",
       "      <td>train</td>\n",
       "    </tr>\n",
       "    <tr>\n",
       "      <th>2</th>\n",
       "      <td>Date Night</td>\n",
       "      <td>[{'index': 1, 'name': 'dip dye raglan blue whi...</td>\n",
       "      <td>A fashion look from February 2017 by hattie4pa...</td>\n",
       "      <td>216829898</td>\n",
       "      <td>train</td>\n",
       "    </tr>\n",
       "    <tr>\n",
       "      <th>3</th>\n",
       "      <td>TOP</td>\n",
       "      <td>[{'index': 1, 'name': 'forever new lauren embe...</td>\n",
       "      <td>A fashion look from December 2013 featuring sh...</td>\n",
       "      <td>107222824</td>\n",
       "      <td>train</td>\n",
       "    </tr>\n",
       "    <tr>\n",
       "      <th>4</th>\n",
       "      <td>interview outfit</td>\n",
       "      <td>[{'index': 1, 'name': 'wool sweater', 'price':...</td>\n",
       "      <td>A fashion look from November 2016 by smartbuyg...</td>\n",
       "      <td>211086877</td>\n",
       "      <td>train</td>\n",
       "    </tr>\n",
       "    <tr>\n",
       "      <th>...</th>\n",
       "      <td>...</td>\n",
       "      <td>...</td>\n",
       "      <td>...</td>\n",
       "      <td>...</td>\n",
       "      <td>...</td>\n",
       "    </tr>\n",
       "    <tr>\n",
       "      <th>7382</th>\n",
       "      <td>Sheinside.com</td>\n",
       "      <td>[{'index': 1, 'name': 'black sleeveless hollow...</td>\n",
       "      <td>#Sheinside</td>\n",
       "      <td>122358035</td>\n",
       "      <td>test</td>\n",
       "    </tr>\n",
       "    <tr>\n",
       "      <th>7383</th>\n",
       "      <td>Inspired by street style/ the new queen</td>\n",
       "      <td>[{'index': 1, 'name': 'j.crew jeweled chandeli...</td>\n",
       "      <td>A fashion look from November 2014 featuring pi...</td>\n",
       "      <td>141687053</td>\n",
       "      <td>test</td>\n",
       "    </tr>\n",
       "    <tr>\n",
       "      <th>7384</th>\n",
       "      <td>*edgy chic*</td>\n",
       "      <td>[{'index': 1, 'name': 'crop pullover', 'price'...</td>\n",
       "      <td>A fashion look from February 2014 featuring cr...</td>\n",
       "      <td>113788101</td>\n",
       "      <td>test</td>\n",
       "    </tr>\n",
       "    <tr>\n",
       "      <th>7385</th>\n",
       "      <td>Cute White Laser Loose Top Set: Contest Entry</td>\n",
       "      <td>[{'index': 1, 'name': 'shein sheinside loose f...</td>\n",
       "      <td>A fashion look from June 2016 by krystinekerch...</td>\n",
       "      <td>199807808</td>\n",
       "      <td>test</td>\n",
       "    </tr>\n",
       "    <tr>\n",
       "      <th>7386</th>\n",
       "      <td>BOHO Glam....</td>\n",
       "      <td>[{'index': 1, 'name': 'silk-satin midi dress',...</td>\n",
       "      <td>A fashion look from September 2016 by desert-b...</td>\n",
       "      <td>207924300</td>\n",
       "      <td>test</td>\n",
       "    </tr>\n",
       "  </tbody>\n",
       "</table>\n",
       "<p>7387 rows × 5 columns</p>\n",
       "</div>"
      ],
      "text/plain": [
       "                                               name  \\\n",
       "0                                   Casual Eleanor.   \n",
       "1                          Who wears short short !?   \n",
       "2                                        Date Night   \n",
       "3                                               TOP   \n",
       "4                                  interview outfit   \n",
       "...                                             ...   \n",
       "7382                                  Sheinside.com   \n",
       "7383        Inspired by street style/ the new queen   \n",
       "7384                                    *edgy chic*   \n",
       "7385  Cute White Laser Loose Top Set: Contest Entry   \n",
       "7386                                  BOHO Glam....   \n",
       "\n",
       "                                                  items  \\\n",
       "0     [{'index': 1, 'name': 'doublju women's crew ne...   \n",
       "1     [{'index': 1, 'name': 'abercrombie fitch appli...   \n",
       "2     [{'index': 1, 'name': 'dip dye raglan blue whi...   \n",
       "3     [{'index': 1, 'name': 'forever new lauren embe...   \n",
       "4     [{'index': 1, 'name': 'wool sweater', 'price':...   \n",
       "...                                                 ...   \n",
       "7382  [{'index': 1, 'name': 'black sleeveless hollow...   \n",
       "7383  [{'index': 1, 'name': 'j.crew jeweled chandeli...   \n",
       "7384  [{'index': 1, 'name': 'crop pullover', 'price'...   \n",
       "7385  [{'index': 1, 'name': 'shein sheinside loose f...   \n",
       "7386  [{'index': 1, 'name': 'silk-satin midi dress',...   \n",
       "\n",
       "                                                   desc     set_id   type  \n",
       "0     A fashion look from August 2016 by haley-bob1 ...  205211881  train  \n",
       "1     A fashion look from July 2016 by blancacalleja...  203655321  train  \n",
       "2     A fashion look from February 2017 by hattie4pa...  216829898  train  \n",
       "3     A fashion look from December 2013 featuring sh...  107222824  train  \n",
       "4     A fashion look from November 2016 by smartbuyg...  211086877  train  \n",
       "...                                                 ...        ...    ...  \n",
       "7382                                         #Sheinside  122358035   test  \n",
       "7383  A fashion look from November 2014 featuring pi...  141687053   test  \n",
       "7384  A fashion look from February 2014 featuring cr...  113788101   test  \n",
       "7385  A fashion look from June 2016 by krystinekerch...  199807808   test  \n",
       "7386  A fashion look from September 2016 by desert-b...  207924300   test  \n",
       "\n",
       "[7387 rows x 5 columns]"
      ]
     },
     "execution_count": 3,
     "metadata": {},
     "output_type": "execute_result"
    }
   ],
   "source": [
    "concat_df"
   ]
  },
  {
   "cell_type": "code",
   "execution_count": 8,
   "metadata": {},
   "outputs": [
    {
     "data": {
      "text/plain": [
       "type\n",
       "train    4363\n",
       "test     2283\n",
       "valid     741\n",
       "Name: count, dtype: int64"
      ]
     },
     "execution_count": 8,
     "metadata": {},
     "output_type": "execute_result"
    }
   ],
   "source": [
    "concat_df['type'].value_counts()"
   ]
  },
  {
   "cell_type": "code",
   "execution_count": 9,
   "metadata": {},
   "outputs": [
    {
     "data": {
      "text/html": [
       "<div>\n",
       "<style scoped>\n",
       "    .dataframe tbody tr th:only-of-type {\n",
       "        vertical-align: middle;\n",
       "    }\n",
       "\n",
       "    .dataframe tbody tr th {\n",
       "        vertical-align: top;\n",
       "    }\n",
       "\n",
       "    .dataframe thead th {\n",
       "        text-align: right;\n",
       "    }\n",
       "</style>\n",
       "<table border=\"1\" class=\"dataframe\">\n",
       "  <thead>\n",
       "    <tr style=\"text-align: right;\">\n",
       "      <th></th>\n",
       "      <th>question</th>\n",
       "      <th>answers</th>\n",
       "      <th>blank_position</th>\n",
       "      <th>set_id</th>\n",
       "    </tr>\n",
       "  </thead>\n",
       "  <tbody>\n",
       "    <tr>\n",
       "      <th>0</th>\n",
       "      <td>[119704139_1, 119704139_3, 119704139_4, 119704...</td>\n",
       "      <td>[119704139_2, 148511719_1, 206598043_4, 106043...</td>\n",
       "      <td>2</td>\n",
       "      <td>119704139</td>\n",
       "    </tr>\n",
       "    <tr>\n",
       "      <th>1</th>\n",
       "      <td>[119314458_1, 119314458_2, 119314458_3, 119314...</td>\n",
       "      <td>[119314458_6, 209157393_8, 113308426_5, 119813...</td>\n",
       "      <td>6</td>\n",
       "      <td>119314458</td>\n",
       "    </tr>\n",
       "    <tr>\n",
       "      <th>2</th>\n",
       "      <td>[147361785_1, 147361785_2, 147361785_3, 147361...</td>\n",
       "      <td>[147361785_4, 112144897_4, 102654372_1, 196192...</td>\n",
       "      <td>4</td>\n",
       "      <td>147361785</td>\n",
       "    </tr>\n",
       "    <tr>\n",
       "      <th>3</th>\n",
       "      <td>[148015877_1, 148015877_2, 148015877_3]</td>\n",
       "      <td>[148015877_4, 152955044_4, 183769156_2, 186971...</td>\n",
       "      <td>4</td>\n",
       "      <td>148015877</td>\n",
       "    </tr>\n",
       "    <tr>\n",
       "      <th>5</th>\n",
       "      <td>[163560873_1, 163560873_2, 163560873_3, 163560...</td>\n",
       "      <td>[163560873_4, 211633718_2, 176899499_5, 100675...</td>\n",
       "      <td>4</td>\n",
       "      <td>163560873</td>\n",
       "    </tr>\n",
       "    <tr>\n",
       "      <th>...</th>\n",
       "      <td>...</td>\n",
       "      <td>...</td>\n",
       "      <td>...</td>\n",
       "      <td>...</td>\n",
       "    </tr>\n",
       "    <tr>\n",
       "      <th>3071</th>\n",
       "      <td>[203949517_1, 203949517_2, 203949517_3, 203949...</td>\n",
       "      <td>[203949517_5, 216610008_6, 129207446_7, 111531...</td>\n",
       "      <td>5</td>\n",
       "      <td>203949517</td>\n",
       "    </tr>\n",
       "    <tr>\n",
       "      <th>3072</th>\n",
       "      <td>[196280291_2, 196280291_3, 196280291_4, 196280...</td>\n",
       "      <td>[196280291_1, 118801622_1, 214377821_7, 216835...</td>\n",
       "      <td>1</td>\n",
       "      <td>196280291</td>\n",
       "    </tr>\n",
       "    <tr>\n",
       "      <th>3073</th>\n",
       "      <td>[216061834_1, 216061834_2, 216061834_4, 216061...</td>\n",
       "      <td>[216061834_3, 186088042_3, 139790914_1, 204133...</td>\n",
       "      <td>3</td>\n",
       "      <td>216061834</td>\n",
       "    </tr>\n",
       "    <tr>\n",
       "      <th>3074</th>\n",
       "      <td>[195200115_1, 195200115_2, 195200115_3, 195200...</td>\n",
       "      <td>[195200115_5, 215249643_4, 146824478_6, 120556...</td>\n",
       "      <td>5</td>\n",
       "      <td>195200115</td>\n",
       "    </tr>\n",
       "    <tr>\n",
       "      <th>3075</th>\n",
       "      <td>[148787971_1, 148787971_3, 148787971_4, 148787...</td>\n",
       "      <td>[148787971_2, 207219863_6, 208231676_2, 119293...</td>\n",
       "      <td>2</td>\n",
       "      <td>148787971</td>\n",
       "    </tr>\n",
       "  </tbody>\n",
       "</table>\n",
       "<p>2283 rows × 4 columns</p>\n",
       "</div>"
      ],
      "text/plain": [
       "                                               question  \\\n",
       "0     [119704139_1, 119704139_3, 119704139_4, 119704...   \n",
       "1     [119314458_1, 119314458_2, 119314458_3, 119314...   \n",
       "2     [147361785_1, 147361785_2, 147361785_3, 147361...   \n",
       "3               [148015877_1, 148015877_2, 148015877_3]   \n",
       "5     [163560873_1, 163560873_2, 163560873_3, 163560...   \n",
       "...                                                 ...   \n",
       "3071  [203949517_1, 203949517_2, 203949517_3, 203949...   \n",
       "3072  [196280291_2, 196280291_3, 196280291_4, 196280...   \n",
       "3073  [216061834_1, 216061834_2, 216061834_4, 216061...   \n",
       "3074  [195200115_1, 195200115_2, 195200115_3, 195200...   \n",
       "3075  [148787971_1, 148787971_3, 148787971_4, 148787...   \n",
       "\n",
       "                                                answers  blank_position  \\\n",
       "0     [119704139_2, 148511719_1, 206598043_4, 106043...               2   \n",
       "1     [119314458_6, 209157393_8, 113308426_5, 119813...               6   \n",
       "2     [147361785_4, 112144897_4, 102654372_1, 196192...               4   \n",
       "3     [148015877_4, 152955044_4, 183769156_2, 186971...               4   \n",
       "5     [163560873_4, 211633718_2, 176899499_5, 100675...               4   \n",
       "...                                                 ...             ...   \n",
       "3071  [203949517_5, 216610008_6, 129207446_7, 111531...               5   \n",
       "3072  [196280291_1, 118801622_1, 214377821_7, 216835...               1   \n",
       "3073  [216061834_3, 186088042_3, 139790914_1, 204133...               3   \n",
       "3074  [195200115_5, 215249643_4, 146824478_6, 120556...               5   \n",
       "3075  [148787971_2, 207219863_6, 208231676_2, 119293...               2   \n",
       "\n",
       "         set_id  \n",
       "0     119704139  \n",
       "1     119314458  \n",
       "2     147361785  \n",
       "3     148015877  \n",
       "5     163560873  \n",
       "...         ...  \n",
       "3071  203949517  \n",
       "3072  196280291  \n",
       "3073  216061834  \n",
       "3074  195200115  \n",
       "3075  148787971  \n",
       "\n",
       "[2283 rows x 4 columns]"
      ]
     },
     "execution_count": 9,
     "metadata": {},
     "output_type": "execute_result"
    }
   ],
   "source": [
    "question_data"
   ]
  },
  {
   "cell_type": "code",
   "execution_count": 5,
   "metadata": {},
   "outputs": [
    {
     "name": "stdout",
     "output_type": "stream",
     "text": [
      "c:\\Users\\jsj91\\.vscode\\AI_MMR\\data\\images\n"
     ]
    }
   ],
   "source": [
    "print(image_dir)"
   ]
  },
  {
   "cell_type": "code",
   "execution_count": 64,
   "metadata": {},
   "outputs": [
    {
     "data": {
      "text/html": [
       "<div>\n",
       "<style scoped>\n",
       "    .dataframe tbody tr th:only-of-type {\n",
       "        vertical-align: middle;\n",
       "    }\n",
       "\n",
       "    .dataframe tbody tr th {\n",
       "        vertical-align: top;\n",
       "    }\n",
       "\n",
       "    .dataframe thead th {\n",
       "        text-align: right;\n",
       "    }\n",
       "</style>\n",
       "<table border=\"1\" class=\"dataframe\">\n",
       "  <thead>\n",
       "    <tr style=\"text-align: right;\">\n",
       "      <th></th>\n",
       "      <th>name</th>\n",
       "      <th>items</th>\n",
       "      <th>desc</th>\n",
       "      <th>set_id</th>\n",
       "      <th>type</th>\n",
       "    </tr>\n",
       "  </thead>\n",
       "  <tbody>\n",
       "    <tr>\n",
       "      <th>1027</th>\n",
       "      <td>Street Dance</td>\n",
       "      <td>[{'index': 1, 'name': 'dolce gabbana silk shir...</td>\n",
       "      <td>A fashion look from April 2014 featuring cream...</td>\n",
       "      <td>119704139</td>\n",
       "      <td>test</td>\n",
       "    </tr>\n",
       "    <tr>\n",
       "      <th>1028</th>\n",
       "      <td>I Will Be Your Sunset If You'll Be My Silhouette!</td>\n",
       "      <td>[{'index': 1, 'name': 'irregular lapel blue tr...</td>\n",
       "      <td>A fashion look from April 2014 by sherri-2loco...</td>\n",
       "      <td>119314458</td>\n",
       "      <td>test</td>\n",
       "    </tr>\n",
       "    <tr>\n",
       "      <th>1029</th>\n",
       "      <td>Edgy Urbanist</td>\n",
       "      <td>[{'index': 1, 'name': 'women', 'price': 95.0, ...</td>\n",
       "      <td>2016/03/05\\nHappy Weekend to everyone..have pl...</td>\n",
       "      <td>192637078</td>\n",
       "      <td>test</td>\n",
       "    </tr>\n",
       "    <tr>\n",
       "      <th>1030</th>\n",
       "      <td>My favorite bag</td>\n",
       "      <td>[{'index': 1, 'name': 'derek lam draped cady t...</td>\n",
       "      <td>A fashion look from June 2015 by bliznec featu...</td>\n",
       "      <td>163560873</td>\n",
       "      <td>test</td>\n",
       "    </tr>\n",
       "    <tr>\n",
       "      <th>1031</th>\n",
       "      <td>Yoins - 24/08/2016 - 085</td>\n",
       "      <td>[{'index': 1, 'name': 'yoins sequin hollow lon...</td>\n",
       "      <td>YOINS - Your Inspiration:\\nshop here :http://y...</td>\n",
       "      <td>206598043</td>\n",
       "      <td>test</td>\n",
       "    </tr>\n",
       "    <tr>\n",
       "      <th>...</th>\n",
       "      <td>...</td>\n",
       "      <td>...</td>\n",
       "      <td>...</td>\n",
       "      <td>...</td>\n",
       "      <td>...</td>\n",
       "    </tr>\n",
       "    <tr>\n",
       "      <th>2862</th>\n",
       "      <td>Casual|</td>\n",
       "      <td>[{'index': 1, 'name': 'hollister easy tee', 'p...</td>\n",
       "      <td>A fashion look from July 2016 by babylaci feat...</td>\n",
       "      <td>203949517</td>\n",
       "      <td>test</td>\n",
       "    </tr>\n",
       "    <tr>\n",
       "      <th>2863</th>\n",
       "      <td>Casual</td>\n",
       "      <td>[{'index': 1, 'name': 'round neck short sleeve...</td>\n",
       "      <td>A fashion look from April 2016 by beebeely-loo...</td>\n",
       "      <td>196280291</td>\n",
       "      <td>test</td>\n",
       "    </tr>\n",
       "    <tr>\n",
       "      <th>2864</th>\n",
       "      <td>Winter White</td>\n",
       "      <td>[{'index': 1, 'name': 'stella mccartney oversi...</td>\n",
       "      <td>A fashion look from February 2017 by adduncan ...</td>\n",
       "      <td>216061834</td>\n",
       "      <td>test</td>\n",
       "    </tr>\n",
       "    <tr>\n",
       "      <th>2865</th>\n",
       "      <td>Hot Ticket: Rihanna Concert</td>\n",
       "      <td>[{'index': 1, 'name': 'women sexy hollow flora...</td>\n",
       "      <td>A fashion look from April 2016 by svijetlana f...</td>\n",
       "      <td>195200115</td>\n",
       "      <td>test</td>\n",
       "    </tr>\n",
       "    <tr>\n",
       "      <th>2866</th>\n",
       "      <td>Street Style</td>\n",
       "      <td>[{'index': 1, 'name': 'marni floral print t-sh...</td>\n",
       "      <td>#casual #comfy #flats #jeans</td>\n",
       "      <td>148787971</td>\n",
       "      <td>test</td>\n",
       "    </tr>\n",
       "  </tbody>\n",
       "</table>\n",
       "<p>1840 rows × 5 columns</p>\n",
       "</div>"
      ],
      "text/plain": [
       "                                                   name  ...  type\n",
       "1027                                       Street Dance  ...  test\n",
       "1028  I Will Be Your Sunset If You'll Be My Silhouette!  ...  test\n",
       "1029                                      Edgy Urbanist  ...  test\n",
       "1030                                    My favorite bag  ...  test\n",
       "1031                           Yoins - 24/08/2016 - 085  ...  test\n",
       "...                                                 ...  ...   ...\n",
       "2862                                            Casual|  ...  test\n",
       "2863                                             Casual  ...  test\n",
       "2864                                       Winter White  ...  test\n",
       "2865                        Hot Ticket: Rihanna Concert  ...  test\n",
       "2866                                       Street Style  ...  test\n",
       "\n",
       "[1840 rows x 5 columns]"
      ]
     },
     "execution_count": 64,
     "metadata": {},
     "output_type": "execute_result"
    }
   ],
   "source": [
    "concat_df[concat_df['type']=='test']"
   ]
  },
  {
   "cell_type": "code",
   "execution_count": null,
   "metadata": {},
   "outputs": [],
   "source": [
    "from importlib import reload\n",
    "import multimodal_data \n",
    "reload(multimodal_data)\n",
    "from multimodal_data import MultiModalData\n",
    "\n",
    "train_dataset = MultiModalData(concat_df, sampler.category_df, image_dir, mode='train')\n",
    "valid_dataset = MultiModalData(concat_df, sampler.category_df, image_dir, mode='valid')\n",
    "test_dataset = MultiModalData(concat_df, sampler.category_df, image_dir, question = question_data, mode='test')"
   ]
  },
  {
   "cell_type": "code",
   "execution_count": 5,
   "metadata": {},
   "outputs": [
    {
     "data": {
      "text/plain": [
       "2283"
      ]
     },
     "execution_count": 5,
     "metadata": {},
     "output_type": "execute_result"
    }
   ],
   "source": [
    "len(test_dataset)"
   ]
  },
  {
   "cell_type": "code",
   "execution_count": 8,
   "metadata": {},
   "outputs": [
    {
     "ename": "RuntimeError",
     "evalue": "Expected all tensors to be on the same device, but found at least two devices, cuda:0 and cpu! (when checking argument for argument tensors in method wrapper_CUDA_cat)",
     "output_type": "error",
     "traceback": [
      "\u001b[1;31m---------------------------------------------------------------------------\u001b[0m",
      "\u001b[1;31mRuntimeError\u001b[0m                              Traceback (most recent call last)",
      "Cell \u001b[1;32mIn[8], line 1\u001b[0m\n\u001b[1;32m----> 1\u001b[0m \u001b[43mtest_dataset\u001b[49m\u001b[43m[\u001b[49m\u001b[38;5;241;43m0\u001b[39;49m\u001b[43m]\u001b[49m\n",
      "File \u001b[1;32mc:\\Users\\jsj91\\.vscode\\AI_MMR\\multimodal_data.py:77\u001b[0m, in \u001b[0;36mMultiModalData.__getitem__\u001b[1;34m(self, idx)\u001b[0m\n\u001b[0;32m     75\u001b[0m \u001b[38;5;28;01mif\u001b[39;00m max_length \u001b[38;5;241m<\u001b[39m \u001b[38;5;241m8\u001b[39m: \u001b[38;5;66;03m# Padding\u001b[39;00m\n\u001b[0;32m     76\u001b[0m     padding \u001b[38;5;241m=\u001b[39m torch\u001b[38;5;241m.\u001b[39mzeros(\u001b[38;5;241m8\u001b[39m \u001b[38;5;241m-\u001b[39m max_length, \u001b[38;5;241m512\u001b[39m)\n\u001b[1;32m---> 77\u001b[0m     texts \u001b[38;5;241m=\u001b[39m \u001b[43mtorch\u001b[49m\u001b[38;5;241;43m.\u001b[39;49m\u001b[43mcat\u001b[49m\u001b[43m(\u001b[49m\u001b[43m(\u001b[49m\u001b[43mtexts\u001b[49m\u001b[43m,\u001b[49m\u001b[43m \u001b[49m\u001b[43mpadding\u001b[49m\u001b[43m)\u001b[49m\u001b[43m,\u001b[49m\u001b[43m \u001b[49m\u001b[43mdim\u001b[49m\u001b[38;5;241;43m=\u001b[39;49m\u001b[38;5;241;43m0\u001b[39;49m\u001b[43m)\u001b[49m\n\u001b[0;32m     78\u001b[0m     images \u001b[38;5;241m=\u001b[39m torch\u001b[38;5;241m.\u001b[39mcat((images, padding), dim\u001b[38;5;241m=\u001b[39m\u001b[38;5;241m0\u001b[39m)\n\u001b[0;32m     79\u001b[0m     price_list \u001b[38;5;241m+\u001b[39m\u001b[38;5;241m=\u001b[39m [\u001b[38;5;241m-\u001b[39m\u001b[38;5;241m1\u001b[39m] \u001b[38;5;241m*\u001b[39m (\u001b[38;5;241m8\u001b[39m \u001b[38;5;241m-\u001b[39m max_length)\n",
      "\u001b[1;31mRuntimeError\u001b[0m: Expected all tensors to be on the same device, but found at least two devices, cuda:0 and cpu! (when checking argument for argument tensors in method wrapper_CUDA_cat)"
     ]
    }
   ],
   "source": [
    "test_dataset[0]"
   ]
  },
  {
   "cell_type": "code",
   "execution_count": 10,
   "metadata": {},
   "outputs": [
    {
     "data": {
      "text/plain": [
       "[{'question_ids': ['100445477_1',\n",
       "   '100445477_3',\n",
       "   '100445477_4',\n",
       "   '100445477_5',\n",
       "   '100445477_6',\n",
       "   '100445477_7',\n",
       "   '100445477_8'],\n",
       "  'answer': ['100445477_2', '213956506_2', '190058983_5', '134261002_3'],\n",
       "  'blank_position': 2}]"
      ]
     },
     "execution_count": 10,
     "metadata": {},
     "output_type": "execute_result"
    }
   ],
   "source": [
    "test_dataset[10]['question']"
   ]
  },
  {
   "cell_type": "code",
   "execution_count": 19,
   "metadata": {},
   "outputs": [
    {
     "data": {
      "text/plain": [
       "dict_keys(['texts', 'text_gt', 'prices', 'likes', 'images', 'image_gt', 'set_id', 'valid_idx', 'gt_idx'])"
      ]
     },
     "execution_count": 19,
     "metadata": {},
     "output_type": "execute_result"
    }
   ],
   "source": [
    "valid_dataset[10].keys()"
   ]
  },
  {
   "cell_type": "markdown",
   "metadata": {},
   "source": [
    "## Dataloader"
   ]
  },
  {
   "cell_type": "code",
   "execution_count": 16,
   "metadata": {},
   "outputs": [],
   "source": [
    "# from torch.utils.data import Dataset, DataLoader\n",
    "# import torch\n",
    "# import clip\n",
    "# from PIL import Image\n",
    "\n",
    "# def custom_collate_fn(batch, test=False):\n",
    "#     texts = [item[\"texts\"] for item in batch]\n",
    "#     price = [item[\"price\"] for item in batch]         \n",
    "#     likes = [item[\"likes\"] for item in batch]         \n",
    "#     images = [item[\"images\"] for item in batch]        \n",
    "#     set_id = [item[\"set_id\"] for item in batch]       \n",
    "       \n",
    "#     if test:\n",
    "#         question = [item[\"question\"] for item in batch] \n",
    "#         return {\n",
    "#             \"texts\": texts,\n",
    "#             \"price\": price,\n",
    "#             \"likes\": likes,\n",
    "#             \"images\": images,\n",
    "#             \"set_id\": set_id,\n",
    "#             \"question\": question,\n",
    "#         }\n",
    "#     else: \n",
    "#         return {\n",
    "#             \"texts\": texts,\n",
    "#             \"price\": price,\n",
    "#             \"likes\": likes,\n",
    "#             \"images\": images,\n",
    "#             \"set_id\": set_id\n",
    "#         }\n",
    "    \n",
    "# valid_loader = DataLoader(\n",
    "#     valid_dataset, \n",
    "#     batch_size=4, \n",
    "#     shuffle=True, \n",
    "#     collate_fn=lambda batch: custom_collate_fn(batch, test=False)\n",
    "# )"
   ]
  },
  {
   "cell_type": "code",
   "execution_count": null,
   "metadata": {},
   "outputs": [],
   "source": []
  },
  {
   "cell_type": "code",
   "execution_count": 17,
   "metadata": {},
   "outputs": [
    {
     "ename": "KeyError",
     "evalue": "'price'",
     "output_type": "error",
     "traceback": [
      "\u001b[1;31m---------------------------------------------------------------------------\u001b[0m",
      "\u001b[1;31mKeyError\u001b[0m                                  Traceback (most recent call last)",
      "Cell \u001b[1;32mIn[17], line 1\u001b[0m\n\u001b[1;32m----> 1\u001b[0m \u001b[38;5;28;43;01mfor\u001b[39;49;00m\u001b[43m \u001b[49m\u001b[43mbatch\u001b[49m\u001b[43m \u001b[49m\u001b[38;5;129;43;01min\u001b[39;49;00m\u001b[43m \u001b[49m\u001b[43mvalid_loader\u001b[49m\u001b[43m:\u001b[49m\n\u001b[0;32m      2\u001b[0m \u001b[43m    \u001b[49m\u001b[38;5;28;43mprint\u001b[39;49m\u001b[43m(\u001b[49m\u001b[43mbatch\u001b[49m\u001b[43m)\u001b[49m\n",
      "File \u001b[1;32mc:\\ProgramData\\Anaconda3\\envs\\jin\\Lib\\site-packages\\torch\\utils\\data\\dataloader.py:630\u001b[0m, in \u001b[0;36m_BaseDataLoaderIter.__next__\u001b[1;34m(self)\u001b[0m\n\u001b[0;32m    627\u001b[0m \u001b[38;5;28;01mif\u001b[39;00m \u001b[38;5;28mself\u001b[39m\u001b[38;5;241m.\u001b[39m_sampler_iter \u001b[38;5;129;01mis\u001b[39;00m \u001b[38;5;28;01mNone\u001b[39;00m:\n\u001b[0;32m    628\u001b[0m     \u001b[38;5;66;03m# TODO(https://github.com/pytorch/pytorch/issues/76750)\u001b[39;00m\n\u001b[0;32m    629\u001b[0m     \u001b[38;5;28mself\u001b[39m\u001b[38;5;241m.\u001b[39m_reset()  \u001b[38;5;66;03m# type: ignore[call-arg]\u001b[39;00m\n\u001b[1;32m--> 630\u001b[0m data \u001b[38;5;241m=\u001b[39m \u001b[38;5;28;43mself\u001b[39;49m\u001b[38;5;241;43m.\u001b[39;49m\u001b[43m_next_data\u001b[49m\u001b[43m(\u001b[49m\u001b[43m)\u001b[49m\n\u001b[0;32m    631\u001b[0m \u001b[38;5;28mself\u001b[39m\u001b[38;5;241m.\u001b[39m_num_yielded \u001b[38;5;241m+\u001b[39m\u001b[38;5;241m=\u001b[39m \u001b[38;5;241m1\u001b[39m\n\u001b[0;32m    632\u001b[0m \u001b[38;5;28;01mif\u001b[39;00m \u001b[38;5;28mself\u001b[39m\u001b[38;5;241m.\u001b[39m_dataset_kind \u001b[38;5;241m==\u001b[39m _DatasetKind\u001b[38;5;241m.\u001b[39mIterable \u001b[38;5;129;01mand\u001b[39;00m \\\n\u001b[0;32m    633\u001b[0m         \u001b[38;5;28mself\u001b[39m\u001b[38;5;241m.\u001b[39m_IterableDataset_len_called \u001b[38;5;129;01mis\u001b[39;00m \u001b[38;5;129;01mnot\u001b[39;00m \u001b[38;5;28;01mNone\u001b[39;00m \u001b[38;5;129;01mand\u001b[39;00m \\\n\u001b[0;32m    634\u001b[0m         \u001b[38;5;28mself\u001b[39m\u001b[38;5;241m.\u001b[39m_num_yielded \u001b[38;5;241m>\u001b[39m \u001b[38;5;28mself\u001b[39m\u001b[38;5;241m.\u001b[39m_IterableDataset_len_called:\n",
      "File \u001b[1;32mc:\\ProgramData\\Anaconda3\\envs\\jin\\Lib\\site-packages\\torch\\utils\\data\\dataloader.py:673\u001b[0m, in \u001b[0;36m_SingleProcessDataLoaderIter._next_data\u001b[1;34m(self)\u001b[0m\n\u001b[0;32m    671\u001b[0m \u001b[38;5;28;01mdef\u001b[39;00m \u001b[38;5;21m_next_data\u001b[39m(\u001b[38;5;28mself\u001b[39m):\n\u001b[0;32m    672\u001b[0m     index \u001b[38;5;241m=\u001b[39m \u001b[38;5;28mself\u001b[39m\u001b[38;5;241m.\u001b[39m_next_index()  \u001b[38;5;66;03m# may raise StopIteration\u001b[39;00m\n\u001b[1;32m--> 673\u001b[0m     data \u001b[38;5;241m=\u001b[39m \u001b[38;5;28;43mself\u001b[39;49m\u001b[38;5;241;43m.\u001b[39;49m\u001b[43m_dataset_fetcher\u001b[49m\u001b[38;5;241;43m.\u001b[39;49m\u001b[43mfetch\u001b[49m\u001b[43m(\u001b[49m\u001b[43mindex\u001b[49m\u001b[43m)\u001b[49m  \u001b[38;5;66;03m# may raise StopIteration\u001b[39;00m\n\u001b[0;32m    674\u001b[0m     \u001b[38;5;28;01mif\u001b[39;00m \u001b[38;5;28mself\u001b[39m\u001b[38;5;241m.\u001b[39m_pin_memory:\n\u001b[0;32m    675\u001b[0m         data \u001b[38;5;241m=\u001b[39m _utils\u001b[38;5;241m.\u001b[39mpin_memory\u001b[38;5;241m.\u001b[39mpin_memory(data, \u001b[38;5;28mself\u001b[39m\u001b[38;5;241m.\u001b[39m_pin_memory_device)\n",
      "File \u001b[1;32mc:\\ProgramData\\Anaconda3\\envs\\jin\\Lib\\site-packages\\torch\\utils\\data\\_utils\\fetch.py:55\u001b[0m, in \u001b[0;36m_MapDatasetFetcher.fetch\u001b[1;34m(self, possibly_batched_index)\u001b[0m\n\u001b[0;32m     53\u001b[0m \u001b[38;5;28;01melse\u001b[39;00m:\n\u001b[0;32m     54\u001b[0m     data \u001b[38;5;241m=\u001b[39m \u001b[38;5;28mself\u001b[39m\u001b[38;5;241m.\u001b[39mdataset[possibly_batched_index]\n\u001b[1;32m---> 55\u001b[0m \u001b[38;5;28;01mreturn\u001b[39;00m \u001b[38;5;28;43mself\u001b[39;49m\u001b[38;5;241;43m.\u001b[39;49m\u001b[43mcollate_fn\u001b[49m\u001b[43m(\u001b[49m\u001b[43mdata\u001b[49m\u001b[43m)\u001b[49m\n",
      "Cell \u001b[1;32mIn[16], line 36\u001b[0m, in \u001b[0;36m<lambda>\u001b[1;34m(batch)\u001b[0m\n\u001b[0;32m     23\u001b[0m     \u001b[38;5;28;01melse\u001b[39;00m: \n\u001b[0;32m     24\u001b[0m         \u001b[38;5;28;01mreturn\u001b[39;00m {\n\u001b[0;32m     25\u001b[0m             \u001b[38;5;124m\"\u001b[39m\u001b[38;5;124mtexts\u001b[39m\u001b[38;5;124m\"\u001b[39m: texts,\n\u001b[0;32m     26\u001b[0m             \u001b[38;5;124m\"\u001b[39m\u001b[38;5;124mprice\u001b[39m\u001b[38;5;124m\"\u001b[39m: price,\n\u001b[1;32m   (...)\u001b[0m\n\u001b[0;32m     29\u001b[0m             \u001b[38;5;124m\"\u001b[39m\u001b[38;5;124mset_id\u001b[39m\u001b[38;5;124m\"\u001b[39m: set_id\n\u001b[0;32m     30\u001b[0m         }\n\u001b[0;32m     32\u001b[0m valid_loader \u001b[38;5;241m=\u001b[39m DataLoader(\n\u001b[0;32m     33\u001b[0m     valid_dataset, \n\u001b[0;32m     34\u001b[0m     batch_size\u001b[38;5;241m=\u001b[39m\u001b[38;5;241m4\u001b[39m, \n\u001b[0;32m     35\u001b[0m     shuffle\u001b[38;5;241m=\u001b[39m\u001b[38;5;28;01mTrue\u001b[39;00m, \n\u001b[1;32m---> 36\u001b[0m     collate_fn\u001b[38;5;241m=\u001b[39m\u001b[38;5;28;01mlambda\u001b[39;00m batch: \u001b[43mcustom_collate_fn\u001b[49m\u001b[43m(\u001b[49m\u001b[43mbatch\u001b[49m\u001b[43m,\u001b[49m\u001b[43m \u001b[49m\u001b[43mtest\u001b[49m\u001b[38;5;241;43m=\u001b[39;49m\u001b[38;5;28;43;01mFalse\u001b[39;49;00m\u001b[43m)\u001b[49m\n\u001b[0;32m     37\u001b[0m )\n",
      "Cell \u001b[1;32mIn[16], line 8\u001b[0m, in \u001b[0;36mcustom_collate_fn\u001b[1;34m(batch, test)\u001b[0m\n\u001b[0;32m      6\u001b[0m \u001b[38;5;28;01mdef\u001b[39;00m \u001b[38;5;21mcustom_collate_fn\u001b[39m(batch, test\u001b[38;5;241m=\u001b[39m\u001b[38;5;28;01mFalse\u001b[39;00m):\n\u001b[0;32m      7\u001b[0m     texts \u001b[38;5;241m=\u001b[39m [item[\u001b[38;5;124m\"\u001b[39m\u001b[38;5;124mtexts\u001b[39m\u001b[38;5;124m\"\u001b[39m] \u001b[38;5;28;01mfor\u001b[39;00m item \u001b[38;5;129;01min\u001b[39;00m batch]\n\u001b[1;32m----> 8\u001b[0m     price \u001b[38;5;241m=\u001b[39m \u001b[43m[\u001b[49m\u001b[43mitem\u001b[49m\u001b[43m[\u001b[49m\u001b[38;5;124;43m\"\u001b[39;49m\u001b[38;5;124;43mprice\u001b[39;49m\u001b[38;5;124;43m\"\u001b[39;49m\u001b[43m]\u001b[49m\u001b[43m \u001b[49m\u001b[38;5;28;43;01mfor\u001b[39;49;00m\u001b[43m \u001b[49m\u001b[43mitem\u001b[49m\u001b[43m \u001b[49m\u001b[38;5;129;43;01min\u001b[39;49;00m\u001b[43m \u001b[49m\u001b[43mbatch\u001b[49m\u001b[43m]\u001b[49m         \n\u001b[0;32m      9\u001b[0m     likes \u001b[38;5;241m=\u001b[39m [item[\u001b[38;5;124m\"\u001b[39m\u001b[38;5;124mlikes\u001b[39m\u001b[38;5;124m\"\u001b[39m] \u001b[38;5;28;01mfor\u001b[39;00m item \u001b[38;5;129;01min\u001b[39;00m batch]         \n\u001b[0;32m     10\u001b[0m     images \u001b[38;5;241m=\u001b[39m [item[\u001b[38;5;124m\"\u001b[39m\u001b[38;5;124mimages\u001b[39m\u001b[38;5;124m\"\u001b[39m] \u001b[38;5;28;01mfor\u001b[39;00m item \u001b[38;5;129;01min\u001b[39;00m batch]        \n",
      "Cell \u001b[1;32mIn[16], line 8\u001b[0m, in \u001b[0;36m<listcomp>\u001b[1;34m(.0)\u001b[0m\n\u001b[0;32m      6\u001b[0m \u001b[38;5;28;01mdef\u001b[39;00m \u001b[38;5;21mcustom_collate_fn\u001b[39m(batch, test\u001b[38;5;241m=\u001b[39m\u001b[38;5;28;01mFalse\u001b[39;00m):\n\u001b[0;32m      7\u001b[0m     texts \u001b[38;5;241m=\u001b[39m [item[\u001b[38;5;124m\"\u001b[39m\u001b[38;5;124mtexts\u001b[39m\u001b[38;5;124m\"\u001b[39m] \u001b[38;5;28;01mfor\u001b[39;00m item \u001b[38;5;129;01min\u001b[39;00m batch]\n\u001b[1;32m----> 8\u001b[0m     price \u001b[38;5;241m=\u001b[39m [\u001b[43mitem\u001b[49m\u001b[43m[\u001b[49m\u001b[38;5;124;43m\"\u001b[39;49m\u001b[38;5;124;43mprice\u001b[39;49m\u001b[38;5;124;43m\"\u001b[39;49m\u001b[43m]\u001b[49m \u001b[38;5;28;01mfor\u001b[39;00m item \u001b[38;5;129;01min\u001b[39;00m batch]         \n\u001b[0;32m      9\u001b[0m     likes \u001b[38;5;241m=\u001b[39m [item[\u001b[38;5;124m\"\u001b[39m\u001b[38;5;124mlikes\u001b[39m\u001b[38;5;124m\"\u001b[39m] \u001b[38;5;28;01mfor\u001b[39;00m item \u001b[38;5;129;01min\u001b[39;00m batch]         \n\u001b[0;32m     10\u001b[0m     images \u001b[38;5;241m=\u001b[39m [item[\u001b[38;5;124m\"\u001b[39m\u001b[38;5;124mimages\u001b[39m\u001b[38;5;124m\"\u001b[39m] \u001b[38;5;28;01mfor\u001b[39;00m item \u001b[38;5;129;01min\u001b[39;00m batch]        \n",
      "\u001b[1;31mKeyError\u001b[0m: 'price'"
     ]
    }
   ],
   "source": [
    "for batch in valid_loader:\n",
    "    print(batch)"
   ]
  },
  {
   "cell_type": "code",
   "execution_count": 38,
   "metadata": {},
   "outputs": [],
   "source": []
  },
  {
   "cell_type": "code",
   "execution_count": null,
   "metadata": {},
   "outputs": [],
   "source": []
  }
 ],
 "metadata": {
  "kernelspec": {
   "display_name": "jin",
   "language": "python",
   "name": "python3"
  },
  "language_info": {
   "codemirror_mode": {
    "name": "ipython",
    "version": 3
   },
   "file_extension": ".py",
   "mimetype": "text/x-python",
   "name": "python",
   "nbconvert_exporter": "python",
   "pygments_lexer": "ipython3",
   "version": "3.11.9"
  }
 },
 "nbformat": 4,
 "nbformat_minor": 2
}
