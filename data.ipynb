{
 "cells": [
  {
   "cell_type": "markdown",
   "metadata": {},
   "source": [
    "## 패션 이미지 데이터셋 전처리"
   ]
  },
  {
   "cell_type": "code",
   "execution_count": 1,
   "metadata": {},
   "outputs": [],
   "source": [
    "# import pandas as pd\n",
    "\n",
    "# path = 'data/meta/'\n",
    "# train = pd.read_json(path + 'train_no_dup.json')\n",
    "# valid = pd.read_json(path + 'valid_no_dup.json')\n",
    "# test = pd.read_json(path + 'test_no_dup.json')\n",
    "# blank = pd.read_json(path + 'fill_in_blank_test.json')"
   ]
  },
  {
   "cell_type": "markdown",
   "metadata": {},
   "source": [
    "## Data Load Example"
   ]
  },
  {
   "cell_type": "code",
   "execution_count": 1,
   "metadata": {},
   "outputs": [],
   "source": [
    "import pandas as pd\n",
    "from dataloader.sampling import DataSampler\n",
    "from dataloader.multimodal_data import MultiModalData\n",
    "from dataloader.multilstm_data import MultiModalData\n",
    "import os\n",
    "\n",
    "base_dir = os.getcwd()\n",
    "data_dir = os.path.join(base_dir, 'data')\n",
    "meta_dir = os.path.join(data_dir, 'meta')\n",
    "image_dir = os.path.join(data_dir, 'images')\n",
    "sampler = DataSampler(data_path = meta_dir, k=150, test_sampling_ratio=1)\n",
    "concat_df, question_data = sampler.sample_data()\n",
    "\n",
    "train_dataset = MultiModalData(concat_df, sampler.category_df, image_dir, mode='train')\n",
    "valid_dataset = MultiModalData(concat_df, sampler.category_df, image_dir, mode='valid')\n",
    "test_dataset = MultiModalData(concat_df, sampler.category_df, image_dir, question = question_data, mode='test')"
   ]
  },
  {
   "cell_type": "code",
   "execution_count": 2,
   "metadata": {},
   "outputs": [
    {
     "name": "stderr",
     "output_type": "stream",
     "text": [
      "c:\\ProgramData\\Anaconda3\\envs\\jin\\Lib\\site-packages\\torch\\nn\\functional.py:5560: UserWarning: 1Torch was not compiled with flash attention. (Triggered internally at C:\\cb\\pytorch_1000000000000\\work\\aten\\src\\ATen\\native\\transformers\\cuda\\sdp_utils.cpp:555.)\n",
      "  attn_output = scaled_dot_product_attention(q, k, v, attn_mask, dropout_p, is_causal)\n"
     ]
    },
    {
     "data": {
      "text/plain": [
       "dict_keys(['texts', 'images', 'set_id'])"
      ]
     },
     "execution_count": 2,
     "metadata": {},
     "output_type": "execute_result"
    }
   ],
   "source": [
    "train_dataset[10].keys()"
   ]
  },
  {
   "cell_type": "code",
   "execution_count": 3,
   "metadata": {},
   "outputs": [
    {
     "data": {
      "text/plain": [
       "{'texts': tensor([[ 0.1168, -0.1072, -0.4150,  ...,  0.3625, -0.2905,  0.2135],\n",
       "         [ 0.0575, -0.0611, -0.5083,  ...,  0.2993, -0.1221,  0.0342],\n",
       "         [ 0.0458,  0.3501, -0.0540,  ...,  0.3625, -0.1615,  0.0183],\n",
       "         [ 0.4260,  0.0510, -0.4104,  ...,  0.2598,  0.1517,  0.1289],\n",
       "         [-0.2642, -0.1250, -0.1735,  ...,  0.3481,  0.0607, -0.1196]],\n",
       "        device='cuda:0', grad_fn=<ToCopyBackward0>),\n",
       " 'images': tensor([[-0.3042,  0.0260, -0.0421,  ...,  0.5161,  0.0083,  0.3433],\n",
       "         [-0.0344, -0.4177,  0.5928,  ...,  0.5952, -0.3606,  0.3208],\n",
       "         [-0.4397, -0.0482,  0.3816,  ...,  0.3572, -0.0570,  0.1208],\n",
       "         [ 0.1605,  0.0170, -0.1733,  ...,  0.9746, -0.0967,  0.1057],\n",
       "         [-0.0327,  0.1245,  0.6440,  ...,  0.4250, -0.1155,  0.0605]],\n",
       "        device='cuda:0', grad_fn=<ToCopyBackward0>),\n",
       " 'set_id': 203655321}"
      ]
     },
     "execution_count": 3,
     "metadata": {},
     "output_type": "execute_result"
    }
   ],
   "source": [
    "train_dataset[1]"
   ]
  },
  {
   "cell_type": "markdown",
   "metadata": {},
   "source": [
    "## Dataloader"
   ]
  },
  {
   "cell_type": "code",
   "execution_count": 17,
   "metadata": {},
   "outputs": [],
   "source": [
    "# def custom_collate_fn(batch, test=False):\n",
    "#     texts = [item[\"texts\"] for item in batch]\n",
    "#     price = [item[\"price\"] for item in batch]         \n",
    "#     likes = [item[\"likes\"] for item in batch]         \n",
    "#     images = [item[\"images\"] for item in batch]        \n",
    "#     set_id = [item[\"set_id\"] for item in batch]       \n",
    "       \n",
    "#     if test:\n",
    "#         question = [item[\"question\"] for item in batch] \n",
    "#         return {\n",
    "#             \"texts\": texts,\n",
    "#             \"price\": price,\n",
    "#             \"likes\": likes,\n",
    "#             \"images\": images,\n",
    "#             \"set_id\": set_id,\n",
    "#             \"question\": question,\n",
    "#         }\n",
    "#     else: \n",
    "#         return {\n",
    "#             \"texts\": texts,\n",
    "#             \"price\": price,\n",
    "#             \"likes\": likes,\n",
    "#             \"images\": images,\n",
    "#             \"set_id\": set_id\n",
    "#         }"
   ]
  },
  {
   "cell_type": "code",
   "execution_count": 2,
   "metadata": {},
   "outputs": [],
   "source": [
    "from torch.utils.data import Dataset, DataLoader\n",
    "from AI_MMR.model.multilstm import Multifusion, MultiLSTM\n",
    "import torch\n",
    "\n",
    "device = \"cuda\" if torch.cuda.is_available() else \"cpu\"\n",
    "\n",
    "train_dataloader = DataLoader(train_dataset, batch_size=4, shuffle=True)\n",
    "valid_dataloader = DataLoader(valid_dataset, batch_size=4, shuffle=True)"
   ]
  },
  {
   "cell_type": "code",
   "execution_count": 3,
   "metadata": {},
   "outputs": [
    {
     "name": "stderr",
     "output_type": "stream",
     "text": [
      "c:\\ProgramData\\Anaconda3\\envs\\jin\\Lib\\site-packages\\torch\\nn\\functional.py:5560: UserWarning: 1Torch was not compiled with flash attention. (Triggered internally at C:\\cb\\pytorch_1000000000000\\work\\aten\\src\\ATen\\native\\transformers\\cuda\\sdp_utils.cpp:555.)\n",
      "  attn_output = scaled_dot_product_attention(q, k, v, attn_mask, dropout_p, is_causal)\n"
     ]
    },
    {
     "name": "stdout",
     "output_type": "stream",
     "text": [
      "dict_keys(['texts', 'text_gt', 'prices', 'likes', 'images', 'image_gt', 'set_id', 'valid_idx', 'gt_idx'])\n"
     ]
    }
   ],
   "source": [
    "# Dataloader\n",
    "\n",
    "for batch_idx, batch in enumerate(train_dataloader):\n",
    "    print(batch.keys())\n",
    "    break"
   ]
  },
  {
   "cell_type": "code",
   "execution_count": 4,
   "metadata": {},
   "outputs": [],
   "source": [
    "mlp = Multifusion().to(device)\n",
    "lstm = MultiLSTM(input_size=512, hidden_size=512, num_layers=1, bidirectional=True).to(device)"
   ]
  },
  {
   "cell_type": "code",
   "execution_count": 24,
   "metadata": {},
   "outputs": [],
   "source": [
    "from AI_MMR.model.multilstm import Multifusion"
   ]
  },
  {
   "cell_type": "code",
   "execution_count": null,
   "metadata": {},
   "outputs": [],
   "source": []
  }
 ],
 "metadata": {
  "kernelspec": {
   "display_name": "jin",
   "language": "python",
   "name": "python3"
  },
  "language_info": {
   "codemirror_mode": {
    "name": "ipython",
    "version": 3
   },
   "file_extension": ".py",
   "mimetype": "text/x-python",
   "name": "python",
   "nbconvert_exporter": "python",
   "pygments_lexer": "ipython3",
   "version": "3.11.9"
  }
 },
 "nbformat": 4,
 "nbformat_minor": 2
}
